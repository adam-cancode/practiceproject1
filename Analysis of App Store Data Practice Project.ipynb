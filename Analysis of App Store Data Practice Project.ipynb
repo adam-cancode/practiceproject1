{
 "cells": [
  {
   "cell_type": "markdown",
   "metadata": {},
   "source": [
    "# Analysis of mobile app data from the Apple and Android Stores\n",
    "\n",
    "The intent of this analysis is to understand what types of apps are most likely to attract users on both the Google Play and the App store. This analysis will also test the skills learned so far in this Python course. \n",
    "\n",
    "Further information about the datasets used in the analysis can be found here: \n",
    "\n",
    "| Google Play Store | Apple App Store |\n",
    "|-------- | ---------|\n",
    "|[Kaggle Link](https://www.kaggle.com/datasets/lava18/google-play-store-apps) | [Kaggle Link](https://www.kaggle.com/datasets/ramamet4/app-store-apple-data-set-10k-apps)|\n",
    "\n"
   ]
  },
  {
   "cell_type": "code",
   "execution_count": 2,
   "metadata": {},
   "outputs": [
    {
     "name": "stdout",
     "output_type": "stream",
     "text": [
      "Google Play Store:\n",
      "['Photo Editor & Candy Camera & Grid & ScrapBook', 'ART_AND_DESIGN', '4.1', '159', '19M', '10,000+', 'Free', '0', 'Everyone', 'Art & Design', 'January 7, 2018', '1.0.0', '4.0.3 and up']\n",
      "\n",
      "\n",
      "['Coloring book moana', 'ART_AND_DESIGN', '3.9', '967', '14M', '500,000+', 'Free', '0', 'Everyone', 'Art & Design;Pretend Play', 'January 15, 2018', '2.0.0', '4.0.3 and up']\n",
      "\n",
      "\n",
      "['U Launcher Lite – FREE Live Cool Themes, Hide Apps', 'ART_AND_DESIGN', '4.7', '87510', '8.7M', '5,000,000+', 'Free', '0', 'Everyone', 'Art & Design', 'August 1, 2018', '1.2.4', '4.0.3 and up']\n",
      "\n",
      "\n",
      "['Sketch - Draw & Paint', 'ART_AND_DESIGN', '4.5', '215644', '25M', '50,000,000+', 'Free', '0', 'Teen', 'Art & Design', 'June 8, 2018', 'Varies with device', '4.2 and up']\n",
      "\n",
      "\n",
      "Number of rows: 10841\n",
      "Number of columns: 13\n",
      "Apple App Store:\n",
      "['284882215', 'Facebook', '389879808', 'USD', '0.0', '2974676', '212', '3.5', '3.5', '95.0', '4+', 'Social Networking', '37', '1', '29', '1']\n",
      "\n",
      "\n",
      "['389801252', 'Instagram', '113954816', 'USD', '0.0', '2161558', '1289', '4.5', '4.0', '10.23', '12+', 'Photo & Video', '37', '0', '29', '1']\n",
      "\n",
      "\n",
      "['529479190', 'Clash of Clans', '116476928', 'USD', '0.0', '2130805', '579', '4.5', '4.5', '9.24.12', '9+', 'Games', '38', '5', '18', '1']\n",
      "\n",
      "\n",
      "['420009108', 'Temple Run', '65921024', 'USD', '0.0', '1724546', '3842', '4.5', '4.0', '1.6.2', '9+', 'Games', '40', '5', '1', '1']\n",
      "\n",
      "\n",
      "Number of rows: 7197\n",
      "Number of columns: 16\n"
     ]
    }
   ],
   "source": [
    "from csv import reader\n",
    "\n",
    "### Google Play Store ###\n",
    "opened_file = open('googleplaystore.csv')\n",
    "read_file = reader(opened_file)\n",
    "android = list(read_file)\n",
    "android_header = android[0]\n",
    "android = android[1:]\n",
    "\n",
    "### Apple App Store ###\n",
    "opened_file = open('AppleStore.csv')\n",
    "read_file = reader(opened_file)\n",
    "ios = list(read_file)\n",
    "ios_header = ios[0]\n",
    "ios = ios[1:]\n",
    "\n",
    "def explore_data(dataset, start, end, rows_and_columns=False):\n",
    "    dataset_slice = dataset[start:end]    \n",
    "    for row in dataset_slice:\n",
    "        print(row)\n",
    "        print('\\n') # adds a new (empty) line after each row\n",
    "\n",
    "    if rows_and_columns:\n",
    "        print('Number of rows:', len(dataset))\n",
    "        print('Number of columns:', len(dataset[0]))\n",
    "\n",
    "print('Google Play Store:')        \n",
    "explore_data(android,0,4,True)\n",
    "\n",
    "print('Apple App Store:')\n",
    "explore_data(ios,0,4,True)"
   ]
  },
  {
   "cell_type": "code",
   "execution_count": 3,
   "metadata": {
    "scrolled": true
   },
   "outputs": [
    {
     "name": "stdout",
     "output_type": "stream",
     "text": [
      "['Command & Conquer: Rivals', 'FAMILY', 'NaN', '0', 'Varies with device', '0', 'NaN', '0', 'Everyone 10+', 'Strategy', 'June 28, 2018', 'Varies with device', 'Varies with device']\n"
     ]
    }
   ],
   "source": [
    "print(android[9148])"
   ]
  },
  {
   "cell_type": "markdown",
   "metadata": {},
   "source": [
    "## Deletion of duplicate entries\n",
    "\n",
    "### Part One\n",
    "\n",
    "Several entries have duplicates as shown in the code below printing out all the entries with the name \"Instagram\". This section will remove duplicate rows from our dataset. "
   ]
  },
  {
   "cell_type": "code",
   "execution_count": 4,
   "metadata": {},
   "outputs": [
    {
     "name": "stdout",
     "output_type": "stream",
     "text": [
      "['Instagram', 'SOCIAL', '4.5', '66577313', 'Varies with device', '1,000,000,000+', 'Free', '0', 'Teen', 'Social', 'July 31, 2018', 'Varies with device', 'Varies with device']\n",
      "['Instagram', 'SOCIAL', '4.5', '66577446', 'Varies with device', '1,000,000,000+', 'Free', '0', 'Teen', 'Social', 'July 31, 2018', 'Varies with device', 'Varies with device']\n",
      "['Instagram', 'SOCIAL', '4.5', '66577313', 'Varies with device', '1,000,000,000+', 'Free', '0', 'Teen', 'Social', 'July 31, 2018', 'Varies with device', 'Varies with device']\n",
      "['Instagram', 'SOCIAL', '4.5', '66509917', 'Varies with device', '1,000,000,000+', 'Free', '0', 'Teen', 'Social', 'July 31, 2018', 'Varies with device', 'Varies with device']\n"
     ]
    }
   ],
   "source": [
    "for app in android: \n",
    "    name = app[0]\n",
    "    if name == 'Instagram':\n",
    "        print(app)"
   ]
  },
  {
   "cell_type": "markdown",
   "metadata": {},
   "source": [
    "Count the number of duplicate apps in the Google Play dataset:"
   ]
  },
  {
   "cell_type": "code",
   "execution_count": 5,
   "metadata": {
    "scrolled": false
   },
   "outputs": [
    {
     "name": "stdout",
     "output_type": "stream",
     "text": [
      "Number of duplicate apps:  1181\n",
      "\n",
      "\n",
      "Examples of duplicate apps:  ['Quick PDF Scanner + OCR FREE', 'Box', 'Google My Business', 'ZOOM Cloud Meetings', 'join.me - Simple Meetings', 'Box', 'Zenefits', 'Google Ads', 'Google My Business', 'Slack', 'FreshBooks Classic', 'Insightly CRM', 'QuickBooks Accounting: Invoicing & Expenses', 'HipChat - Chat Built for Teams', 'Xero Accounting Software']\n"
     ]
    }
   ],
   "source": [
    "duplicate_apps=[]\n",
    "unique_apps=[]\n",
    "\n",
    "for app in android: \n",
    "    name = app[0]\n",
    "    if name in unique_apps:\n",
    "        duplicate_apps.append(name)\n",
    "    else:\n",
    "        unique_apps.append(name)\n",
    "\n",
    "len_unique = len(unique_apps)\n",
    "len_duplicate = len(duplicate_apps)\n",
    "\n",
    "print('Number of duplicate apps: ', len_duplicate)\n",
    "print('\\n')\n",
    "print('Examples of duplicate apps: ', duplicate_apps[:15])"
   ]
  },
  {
   "cell_type": "markdown",
   "metadata": {},
   "source": [
    "## Part Two\n",
    "\n",
    "Duplicate entries will be removed by taking the entry with the highest number of reviews in the review column. This implies that it is a more recent entry. \n",
    "\n",
    "We will start by building a dictionary."
   ]
  },
  {
   "cell_type": "markdown",
   "metadata": {},
   "source": [
    "### Removal of problem entry\n",
    "\n",
    "We need to remove one of the app entries that has the review count listed as '3.0M' and can not be converted into a float. A check has been included to make sure additional rows aren't deleted if the code is run twice."
   ]
  },
  {
   "cell_type": "code",
   "execution_count": 6,
   "metadata": {},
   "outputs": [
    {
     "name": "stdout",
     "output_type": "stream",
     "text": [
      "['Life Made WI-Fi Touchscreen Photo Frame', '1.9', '19', '3.0M', '1,000+', 'Free', '0', 'Everyone', '', 'February 11, 2018', '1.0.19', '4.0 and up']\n",
      "10472\n",
      "True\n"
     ]
    }
   ],
   "source": [
    "bad_entry = 'False'\n",
    "for app in android:\n",
    "    if app[3] == '3.0M':\n",
    "        print(app)\n",
    "        index = android.index(app)\n",
    "        bad_entry = 'True'\n",
    "    \n",
    "        \n",
    "print(index)\n",
    "print(bad_entry)\n",
    "\n",
    "if bad_entry == 'True':\n",
    "    del android[index]\n",
    "else: \n",
    "    print('No bad entries')"
   ]
  },
  {
   "cell_type": "code",
   "execution_count": 7,
   "metadata": {},
   "outputs": [
    {
     "name": "stdout",
     "output_type": "stream",
     "text": [
      "9659\n"
     ]
    }
   ],
   "source": [
    "reviews_max = {}\n",
    "\n",
    "for app in android: \n",
    "    name = app[0]\n",
    "    n_reviews = float(app[3])\n",
    "    \n",
    "    if name in reviews_max and reviews_max[name] < n_reviews:\n",
    "        reviews_max[name] = n_reviews\n",
    "    if name not in reviews_max: \n",
    "        reviews_max[name] = n_reviews\n",
    "            \n",
    "            \n",
    "print(len(reviews_max))"
   ]
  },
  {
   "cell_type": "markdown",
   "metadata": {},
   "source": [
    "Now we will use the created dictionary to remove the duplicate rows. We will loop through the android list and add the names who's number of reviews match the highest review number in the dictionary. \n",
    "\n",
    "We then print the length of the android_clean list to make sure it matches the length of our reviews_max list. This is the number of unique app names in the dataset."
   ]
  },
  {
   "cell_type": "code",
   "execution_count": 9,
   "metadata": {},
   "outputs": [
    {
     "name": "stdout",
     "output_type": "stream",
     "text": [
      "['Photo Editor & Candy Camera & Grid & ScrapBook', 'ART_AND_DESIGN', '4.1', '159', '19M', '10,000+', 'Free', '0', 'Everyone', 'Art & Design', 'January 7, 2018', '1.0.0', '4.0.3 and up']\n",
      "\n",
      "\n",
      "['U Launcher Lite – FREE Live Cool Themes, Hide Apps', 'ART_AND_DESIGN', '4.7', '87510', '8.7M', '5,000,000+', 'Free', '0', 'Everyone', 'Art & Design', 'August 1, 2018', '1.2.4', '4.0.3 and up']\n",
      "\n",
      "\n",
      "['Sketch - Draw & Paint', 'ART_AND_DESIGN', '4.5', '215644', '25M', '50,000,000+', 'Free', '0', 'Teen', 'Art & Design', 'June 8, 2018', 'Varies with device', '4.2 and up']\n",
      "\n",
      "\n",
      "Number of rows: 9659\n",
      "Number of columns: 13\n"
     ]
    }
   ],
   "source": [
    "android_clean = []\n",
    "already_added = [] \n",
    "\n",
    "for app in android: \n",
    "    name = app[0]\n",
    "    n_reviews = float(app[3])\n",
    "    \n",
    "    if n_reviews == reviews_max[name] and name not in already_added:\n",
    "        android_clean.append(app)\n",
    "        already_added.append(name)\n",
    "        \n",
    "explore_data(android_clean,0,3,True)\n"
   ]
  },
  {
   "cell_type": "markdown",
   "metadata": {},
   "source": [
    "## Removal of non-english apps\n",
    "\n",
    "### Part One\n",
    "\n",
    "We will now remove non-english app listings in the android_clean dataset. We will do this by verifying that the characters in the name field are withing the ASCII range for English characters. Below you can see some entries that have non-english names:"
   ]
  },
  {
   "cell_type": "code",
   "execution_count": 10,
   "metadata": {},
   "outputs": [
    {
     "name": "stdout",
     "output_type": "stream",
     "text": [
      "中国語 AQリスニング\n",
      "لعبة تقدر تربح DZ\n"
     ]
    }
   ],
   "source": [
    "print(android_clean[4412][0])\n",
    "print(android_clean[7940][0])"
   ]
  },
  {
   "cell_type": "code",
   "execution_count": 19,
   "metadata": {},
   "outputs": [
    {
     "name": "stdout",
     "output_type": "stream",
     "text": [
      "True\n",
      "False\n",
      "False\n",
      "False\n"
     ]
    }
   ],
   "source": [
    "def check_english(string):\n",
    "    for character in string: \n",
    "        if ord(character) > 127:\n",
    "            return False\n",
    "        \n",
    "    return True \n",
    "    \n",
    "print(check_english('Instagram'))\n",
    "print(check_english('爱奇艺PPS -《欢乐颂2》电视剧热播'))\n",
    "print(check_english('Docs To Go™ Free Office Suite'))\n",
    "print(check_english('Instachat 😜'))"
   ]
  },
  {
   "cell_type": "markdown",
   "metadata": {},
   "source": [
    "### Part Two\n",
    "\n",
    "We need to add a condition so that we don't remove apps that use characters such as ™. We will update the function to return false if more than 3 non-english characters are present."
   ]
  },
  {
   "cell_type": "code",
   "execution_count": 20,
   "metadata": {},
   "outputs": [
    {
     "name": "stdout",
     "output_type": "stream",
     "text": [
      "128540\n"
     ]
    }
   ],
   "source": [
    "print(ord('😜'))"
   ]
  },
  {
   "cell_type": "code",
   "execution_count": 24,
   "metadata": {
    "scrolled": true
   },
   "outputs": [
    {
     "name": "stdout",
     "output_type": "stream",
     "text": [
      "True\n",
      "False\n",
      "True\n",
      "True\n"
     ]
    }
   ],
   "source": [
    "def is_english(string): \n",
    "    count = 0\n",
    "    for character in string: \n",
    "        if ord(character) > 127:\n",
    "            count +=1     \n",
    "    if count >= 3:\n",
    "        return False\n",
    "        \n",
    "    return True \n",
    "\n",
    "print(is_english('Instagram'))\n",
    "print(is_english('爱奇艺PPS -《欢乐颂2》电视剧热播'))\n",
    "print(is_english('Docs To Go™ Free Office Suite'))\n",
    "print(is_english('Instachat 😜'))"
   ]
  },
  {
   "cell_type": "code",
   "execution_count": 26,
   "metadata": {},
   "outputs": [
    {
     "name": "stdout",
     "output_type": "stream",
     "text": [
      "['Photo Editor & Candy Camera & Grid & ScrapBook', 'ART_AND_DESIGN', '4.1', '159', '19M', '10,000+', 'Free', '0', 'Everyone', 'Art & Design', 'January 7, 2018', '1.0.0', '4.0.3 and up']\n",
      "\n",
      "\n",
      "['U Launcher Lite – FREE Live Cool Themes, Hide Apps', 'ART_AND_DESIGN', '4.7', '87510', '8.7M', '5,000,000+', 'Free', '0', 'Everyone', 'Art & Design', 'August 1, 2018', '1.2.4', '4.0.3 and up']\n",
      "\n",
      "\n",
      "['Sketch - Draw & Paint', 'ART_AND_DESIGN', '4.5', '215644', '25M', '50,000,000+', 'Free', '0', 'Teen', 'Art & Design', 'June 8, 2018', 'Varies with device', '4.2 and up']\n",
      "\n",
      "\n",
      "Number of rows: 9597\n",
      "Number of columns: 13\n",
      "['284882215', 'Facebook', '389879808', 'USD', '0.0', '2974676', '212', '3.5', '3.5', '95.0', '4+', 'Social Networking', '37', '1', '29', '1']\n",
      "\n",
      "\n",
      "['389801252', 'Instagram', '113954816', 'USD', '0.0', '2161558', '1289', '4.5', '4.0', '10.23', '12+', 'Photo & Video', '37', '0', '29', '1']\n",
      "\n",
      "\n",
      "['529479190', 'Clash of Clans', '116476928', 'USD', '0.0', '2130805', '579', '4.5', '4.5', '9.24.12', '9+', 'Games', '38', '5', '18', '1']\n",
      "\n",
      "\n",
      "Number of rows: 7197\n",
      "Number of columns: 16\n"
     ]
    }
   ],
   "source": [
    "android_english = []\n",
    "ios_english = []\n",
    "\n",
    "for app in android_clean:\n",
    "    name = app[0]\n",
    "    if is_english(name) == True:\n",
    "        android_english.append(app)\n",
    "\n",
    "for app in ios: \n",
    "    name = app[0]\n",
    "    if is_english(name) == True: \n",
    "        ios_english.append(app)\n",
    "\n",
    "explore_data(android_english,0,3,True)\n",
    "explore_data(ios_english,0,3,True) "
   ]
  },
  {
   "cell_type": "markdown",
   "metadata": {},
   "source": [
    "## Isolating the Free Apps\n",
    "\n",
    "Now we will isolate the free apps."
   ]
  },
  {
   "cell_type": "code",
   "execution_count": 27,
   "metadata": {},
   "outputs": [
    {
     "name": "stdout",
     "output_type": "stream",
     "text": [
      "8848\n",
      "4056\n"
     ]
    }
   ],
   "source": [
    "android_free = []\n",
    "ios_free = []\n",
    "\n",
    "for app in android_english: \n",
    "    price = app[7]\n",
    "    if price == '0':\n",
    "        android_free.append(app)\n",
    "\n",
    "for app in ios_english: \n",
    "    price = app[4]\n",
    "    if price == '0.0':\n",
    "        ios_free.append(app)\n",
    "        \n",
    "print(len(android_free))\n",
    "print(len(ios_free))\n"
   ]
  },
  {
   "cell_type": "markdown",
   "metadata": {},
   "source": [
    "## Finding the most common apps by Genre\n",
    "\n",
    "### Part One\n",
    "\n",
    "We would like to determine the most popular genres of apps on both the Google Play store and the Apple store. This will help inform what type of app our company should build that will be most likely to acheive widespread use.\n"
   ]
  },
  {
   "cell_type": "code",
   "execution_count": 31,
   "metadata": {},
   "outputs": [
    {
     "name": "stdout",
     "output_type": "stream",
     "text": [
      "Google Play:\n",
      "['Photo Editor & Candy Camera & Grid & ScrapBook', 'ART_AND_DESIGN', '4.1', '159', '19M', '10,000+', 'Free', '0', 'Everyone', 'Art & Design', 'January 7, 2018', '1.0.0', '4.0.3 and up']\n",
      "\n",
      "\n",
      "['U Launcher Lite – FREE Live Cool Themes, Hide Apps', 'ART_AND_DESIGN', '4.7', '87510', '8.7M', '5,000,000+', 'Free', '0', 'Everyone', 'Art & Design', 'August 1, 2018', '1.2.4', '4.0.3 and up']\n",
      "\n",
      "\n",
      "['Sketch - Draw & Paint', 'ART_AND_DESIGN', '4.5', '215644', '25M', '50,000,000+', 'Free', '0', 'Teen', 'Art & Design', 'June 8, 2018', 'Varies with device', '4.2 and up']\n",
      "\n",
      "\n",
      "['Pixel Draw - Number Art Coloring Book', 'ART_AND_DESIGN', '4.3', '967', '2.8M', '100,000+', 'Free', '0', 'Everyone', 'Art & Design;Creativity', 'June 20, 2018', '1.1', '4.4 and up']\n",
      "\n",
      "\n",
      "Number of rows: 8848\n",
      "Number of columns: 13\n",
      "Apple Store:\n",
      "['284882215', 'Facebook', '389879808', 'USD', '0.0', '2974676', '212', '3.5', '3.5', '95.0', '4+', 'Social Networking', '37', '1', '29', '1']\n",
      "\n",
      "\n",
      "['389801252', 'Instagram', '113954816', 'USD', '0.0', '2161558', '1289', '4.5', '4.0', '10.23', '12+', 'Photo & Video', '37', '0', '29', '1']\n",
      "\n",
      "\n",
      "['529479190', 'Clash of Clans', '116476928', 'USD', '0.0', '2130805', '579', '4.5', '4.5', '9.24.12', '9+', 'Games', '38', '5', '18', '1']\n",
      "\n",
      "\n",
      "['420009108', 'Temple Run', '65921024', 'USD', '0.0', '1724546', '3842', '4.5', '4.0', '1.6.2', '9+', 'Games', '40', '5', '1', '1']\n",
      "\n",
      "\n",
      "Number of rows: 4056\n",
      "Number of columns: 16\n"
     ]
    }
   ],
   "source": [
    "print('Google Play:')\n",
    "explore_data(android_free, 0,4, True)\n",
    "print('Apple Store:')\n",
    "explore_data(ios_free,0,4,True)"
   ]
  },
  {
   "cell_type": "markdown",
   "metadata": {},
   "source": [
    "### Part Two\n",
    "\n",
    "We will now build frequency tables."
   ]
  },
  {
   "cell_type": "code",
   "execution_count": 35,
   "metadata": {},
   "outputs": [
    {
     "name": "stdout",
     "output_type": "stream",
     "text": [
      "Everyone : 81.83807439824945\n",
      "Teen : 10.732520579347712\n",
      "Mature 17+ : 4.053350005209961\n",
      "Everyone 10+ : 3.32395540273002\n",
      "Adults only 18+ : 0.03125976867771178\n",
      "Unrated : 0.020839845785141187\n"
     ]
    }
   ],
   "source": [
    "def freq_table(dataset,index):\n",
    "    \n",
    "    table = {}\n",
    "    total = 0 \n",
    "    \n",
    "    for item in dataset:\n",
    "        total +=1\n",
    "        value = item[index]\n",
    "        if value in table: \n",
    "            table[value] += 1\n",
    "        else: \n",
    "            table[value] = 1\n",
    "    \n",
    "    table_percentages = {}\n",
    "    for key in table:\n",
    "        percentage = (table[key] / total) * 100\n",
    "        table_percentages[key] = percentage \n",
    "    \n",
    "    return table_percentages\n",
    "\n",
    "def display_table(dataset, index):\n",
    "    table = freq_table(dataset, index)\n",
    "    table_display = []\n",
    "    for key in table:\n",
    "        key_val_as_tuple = (table[key], key)\n",
    "        table_display.append(key_val_as_tuple)\n",
    "\n",
    "    table_sorted = sorted(table_display, reverse = True)\n",
    "    for entry in table_sorted:\n",
    "        print(entry[1], ':', entry[0])\n",
    "        \n",
    "        \n",
    "##display_table(android_english,9)\n",
    "display_table(android_english,8)\n",
    "##\n"
   ]
  },
  {
   "cell_type": "markdown",
   "metadata": {},
   "source": [
    "### Part Three\n",
    "\n",
    "We will now examine the frequency tables:"
   ]
  },
  {
   "cell_type": "code",
   "execution_count": 36,
   "metadata": {},
   "outputs": [
    {
     "name": "stdout",
     "output_type": "stream",
     "text": [
      "Games : 53.66124774211477\n",
      "Entertainment : 7.433652910935113\n",
      "Education : 6.294289287203002\n",
      "Photo & Video : 4.849242740030569\n",
      "Utilities : 3.4458802278727245\n",
      "Health & Fitness : 2.501042100875365\n",
      "Productivity : 2.473252744198972\n",
      "Social Networking : 2.3204112824788106\n",
      "Lifestyle : 2.0008336807002918\n",
      "Music : 1.9174656106711132\n",
      "Shopping : 1.6951507572599693\n",
      "Sports : 1.5839933305543976\n",
      "Book : 1.5562039738780047\n",
      "Finance : 1.445046547172433\n",
      "Travel : 1.1254689453939142\n",
      "News : 1.0421008753647354\n",
      "Weather : 1.0004168403501459\n",
      "Reference : 0.8892594136445742\n",
      "Food & Drink : 0.8753647353063776\n",
      "Business : 0.7919966652771988\n",
      "Navigation : 0.6391552035570377\n",
      "Medical : 0.31957760177851885\n",
      "Catalogs : 0.1389467833819647\n"
     ]
    }
   ],
   "source": [
    "display_table(ios_english,-5) #prime genre"
   ]
  },
  {
   "cell_type": "markdown",
   "metadata": {},
   "source": [
    "We can conclude here that Games make up the majority of apps in the Apple Store with 53.66% representation."
   ]
  },
  {
   "cell_type": "code",
   "execution_count": 37,
   "metadata": {},
   "outputs": [
    {
     "name": "stdout",
     "output_type": "stream",
     "text": [
      "Tools : 8.59643638637074\n",
      "Entertainment : 5.8038970511618215\n",
      "Education : 5.2412212149630095\n",
      "Business : 4.365947691987079\n",
      "Medical : 4.115869542565385\n",
      "Personalization : 3.9074710847139733\n",
      "Productivity : 3.8866312389288318\n",
      "Lifestyle : 3.761592164217985\n",
      "Finance : 3.5948733979368557\n",
      "Sports : 3.4385745545482966\n",
      "Communication : 3.2614358653745965\n",
      "Action : 3.1051370219860375\n",
      "Health & Fitness : 3.000937793060331\n",
      "Photography : 2.917578409919767\n",
      "News & Magazines : 2.594560800250078\n",
      "Social : 2.4903615713243723\n",
      "Travel & Local : 2.27154319058039\n",
      "Books & Reference : 2.261123267687819\n",
      "Shopping : 2.0944045014066894\n",
      "Simulation : 1.979785349588413\n",
      "Arcade : 1.9068458893404188\n",
      "Dating : 1.771386891737001\n",
      "Casual : 1.7192872772741483\n",
      "Video Players & Editors : 1.6776075857038657\n",
      "Maps & Navigation : 1.333750130249036\n",
      "Puzzle : 1.2399708242159009\n",
      "Food & Drink : 1.1670313639679066\n",
      "Role Playing : 1.0836719808273418\n",
      "Strategy : 0.9794727519016359\n",
      "Racing : 0.9482129832239241\n",
      "Libraries & Demo : 0.87527352297593\n",
      "Auto & Vehicles : 0.87527352297593\n",
      "Weather : 0.8127539856205065\n",
      "House & Home : 0.7398145253725122\n",
      "Adventure : 0.7398145253725122\n",
      "Events : 0.666875065124518\n",
      "Art & Design : 0.5835156819839533\n",
      "Comics : 0.5522559133062415\n",
      "Beauty : 0.5522559133062415\n",
      "Card : 0.4897363759508179\n",
      "Parenting : 0.4793164530582474\n",
      "Board : 0.437636761487965\n",
      "Educational;Education : 0.3959570699176826\n",
      "Casino : 0.3959570699176826\n",
      "Trivia : 0.385537147025112\n",
      "Educational : 0.385537147025112\n",
      "Education;Education : 0.36469730123997085\n",
      "Casual;Pretend Play : 0.26049807231426486\n",
      "Word : 0.2396582265291237\n",
      "Music : 0.1979785349588413\n",
      "Puzzle;Brain Games : 0.1771386891737001\n",
      "Education;Pretend Play : 0.1771386891737001\n",
      "Racing;Action & Adventure : 0.1667187662811295\n",
      "Entertainment;Music & Video : 0.15629884338855893\n",
      "Board;Brain Games : 0.14587892049598833\n",
      "Arcade;Action & Adventure : 0.14587892049598833\n",
      "Educational;Pretend Play : 0.13545899760341773\n",
      "Casual;Action & Adventure : 0.13545899760341773\n",
      "Casual;Brain Games : 0.12503907471084713\n",
      "Action;Action & Adventure : 0.12503907471084713\n",
      "Simulation;Action & Adventure : 0.07293946024799416\n",
      "Parenting;Education : 0.07293946024799416\n",
      "Entertainment;Brain Games : 0.07293946024799416\n",
      "Parenting;Music & Video : 0.06251953735542357\n",
      "Educational;Brain Games : 0.06251953735542357\n",
      "Education;Creativity : 0.06251953735542357\n",
      "Casual;Creativity : 0.06251953735542357\n",
      "Art & Design;Creativity : 0.06251953735542357\n",
      "Educational;Creativity : 0.05209961446285298\n",
      "Adventure;Action & Adventure : 0.05209961446285298\n",
      "Sports;Action & Adventure : 0.041679691570282375\n",
      "Role Playing;Pretend Play : 0.041679691570282375\n",
      "Role Playing;Action & Adventure : 0.041679691570282375\n",
      "Education;Brain Games : 0.041679691570282375\n",
      "Education;Action & Adventure : 0.041679691570282375\n",
      "Simulation;Pretend Play : 0.03125976867771178\n",
      "Simulation;Education : 0.03125976867771178\n",
      "Puzzle;Action & Adventure : 0.03125976867771178\n",
      "Music;Music & Video : 0.03125976867771178\n",
      "Entertainment;Creativity : 0.03125976867771178\n",
      "Entertainment;Action & Adventure : 0.03125976867771178\n",
      "Educational;Action & Adventure : 0.03125976867771178\n",
      "Education;Music & Video : 0.03125976867771178\n",
      "Casual;Education : 0.03125976867771178\n",
      "Board;Action & Adventure : 0.03125976867771178\n",
      "Video Players & Editors;Music & Video : 0.020839845785141187\n",
      "Strategy;Action & Adventure : 0.020839845785141187\n",
      "Puzzle;Creativity : 0.020839845785141187\n",
      "Entertainment;Pretend Play : 0.020839845785141187\n",
      "Card;Action & Adventure : 0.020839845785141187\n",
      "Books & Reference;Education : 0.020839845785141187\n",
      "Video Players & Editors;Creativity : 0.010419922892570594\n",
      "Trivia;Education : 0.010419922892570594\n",
      "Travel & Local;Action & Adventure : 0.010419922892570594\n",
      "Tools;Education : 0.010419922892570594\n",
      "Strategy;Education : 0.010419922892570594\n",
      "Strategy;Creativity : 0.010419922892570594\n",
      "Role Playing;Education : 0.010419922892570594\n",
      "Role Playing;Brain Games : 0.010419922892570594\n",
      "Racing;Pretend Play : 0.010419922892570594\n",
      "Puzzle;Education : 0.010419922892570594\n",
      "Parenting;Brain Games : 0.010419922892570594\n",
      "Music & Audio;Music & Video : 0.010419922892570594\n",
      "Lifestyle;Pretend Play : 0.010419922892570594\n",
      "Lifestyle;Education : 0.010419922892570594\n",
      "Health & Fitness;Education : 0.010419922892570594\n",
      "Health & Fitness;Action & Adventure : 0.010419922892570594\n",
      "Entertainment;Education : 0.010419922892570594\n",
      "Communication;Creativity : 0.010419922892570594\n",
      "Comics;Creativity : 0.010419922892570594\n",
      "Casual;Music & Video : 0.010419922892570594\n",
      "Books & Reference;Creativity : 0.010419922892570594\n",
      "Board;Pretend Play : 0.010419922892570594\n",
      "Art & Design;Pretend Play : 0.010419922892570594\n",
      "Art & Design;Action & Adventure : 0.010419922892570594\n",
      "Arcade;Pretend Play : 0.010419922892570594\n",
      "Adventure;Education : 0.010419922892570594\n",
      "Adventure;Brain Games : 0.010419922892570594\n"
     ]
    }
   ],
   "source": [
    "display_table(android_english,9) # Genre"
   ]
  },
  {
   "cell_type": "markdown",
   "metadata": {},
   "source": [
    "We can see here that the top 3 genres in the Google Play Store are Tools, Entertainment, and Education"
   ]
  },
  {
   "cell_type": "code",
   "execution_count": 38,
   "metadata": {},
   "outputs": [
    {
     "name": "stdout",
     "output_type": "stream",
     "text": [
      "FAMILY : 19.360216734396165\n",
      "GAME : 9.794727519016359\n",
      "TOOLS : 8.60685630926331\n",
      "BUSINESS : 4.365947691987079\n",
      "MEDICAL : 4.115869542565385\n",
      "PERSONALIZATION : 3.9074710847139733\n",
      "PRODUCTIVITY : 3.8866312389288318\n",
      "LIFESTYLE : 3.7720120871105554\n",
      "FINANCE : 3.5948733979368557\n",
      "SPORTS : 3.376055017192873\n",
      "COMMUNICATION : 3.2614358653745965\n",
      "HEALTH_AND_FITNESS : 3.000937793060331\n",
      "PHOTOGRAPHY : 2.917578409919767\n",
      "NEWS_AND_MAGAZINES : 2.594560800250078\n",
      "SOCIAL : 2.4903615713243723\n",
      "TRAVEL_AND_LOCAL : 2.28196311347296\n",
      "BOOKS_AND_REFERENCE : 2.261123267687819\n",
      "SHOPPING : 2.0944045014066894\n",
      "DATING : 1.771386891737001\n",
      "VIDEO_PLAYERS : 1.6984474314890068\n",
      "MAPS_AND_NAVIGATION : 1.333750130249036\n",
      "FOOD_AND_DRINK : 1.1670313639679066\n",
      "EDUCATION : 1.104511826612483\n",
      "ENTERTAINMENT : 0.9065332916536417\n",
      "LIBRARIES_AND_DEMO : 0.87527352297593\n",
      "AUTO_AND_VEHICLES : 0.87527352297593\n",
      "WEATHER : 0.8127539856205065\n",
      "HOUSE_AND_HOME : 0.7398145253725122\n",
      "EVENTS : 0.666875065124518\n",
      "PARENTING : 0.6251953735542357\n",
      "ART_AND_DESIGN : 0.6251953735542357\n",
      "COMICS : 0.5626758361988121\n",
      "BEAUTY : 0.5522559133062415\n"
     ]
    }
   ],
   "source": [
    "display_table(android_english,1) #Category"
   ]
  },
  {
   "cell_type": "markdown",
   "metadata": {},
   "source": [
    "We can see here that Family, Game, and Tools are the largest Categories in the Google Play Store. The Apple Store has a much more notable share of Games apps designed for fun whereas the distribution of Genres and Categories in the Google Play Store is more balanced."
   ]
  },
  {
   "cell_type": "markdown",
   "metadata": {},
   "source": [
    "## Most Popular Apps on the App Store by Genre\n",
    "\n",
    "We will now look for the most popular apps. This differs from the most common apps we found in the previous section. "
   ]
  },
  {
   "cell_type": "code",
   "execution_count": 43,
   "metadata": {},
   "outputs": [
    {
     "name": "stdout",
     "output_type": "stream",
     "text": [
      "Social Networking  :  45498.89820359281\n",
      "Photo & Video  :  14352.280802292264\n",
      "Games  :  13691.996633868463\n",
      "Music  :  28842.021739130436\n",
      "Reference  :  22410.84375\n",
      "Health & Fitness  :  9913.172222222222\n",
      "Weather  :  22181.027777777777\n",
      "Utilities  :  6863.822580645161\n",
      "Travel  :  14129.444444444445\n",
      "Shopping  :  18615.32786885246\n",
      "News  :  13015.066666666668\n",
      "Navigation  :  11853.95652173913\n",
      "Lifestyle  :  6161.763888888889\n",
      "Entertainment  :  7533.678504672897\n",
      "Food & Drink  :  13938.619047619048\n",
      "Sports  :  14026.929824561403\n",
      "Book  :  5125.4375\n",
      "Finance  :  11047.653846153846\n",
      "Education  :  2239.2295805739514\n",
      "Productivity  :  8051.3258426966295\n",
      "Business  :  4788.087719298245\n",
      "Catalogs  :  1732.5\n",
      "Medical  :  592.7826086956521\n"
     ]
    }
   ],
   "source": [
    "genres_ios = freq_table(ios_english,-5)\n",
    "\n",
    "for genre in genres_ios:\n",
    "    \n",
    "    total = 0\n",
    "    len_genre = 0\n",
    "    \n",
    "    for app in ios_english: \n",
    "        genre_app = app[-5]\n",
    "        if genre == genre_app:\n",
    "            n_ratings = float(app[5])\n",
    "            total += n_ratings\n",
    "            len_genre += 1\n",
    "            \n",
    "    avg_n_ratings = total / len_genre\n",
    "    \n",
    "    print(genre, ' : ', avg_n_ratings)\n",
    "            "
   ]
  },
  {
   "cell_type": "markdown",
   "metadata": {},
   "source": [
    "We can see that Social Networking is the \"most downloaded\" genre of app on iOS by using number of ratings as a proxy.\n",
    "\n",
    "## Most Popular Apps on Google Play by Genre\n",
    "\n",
    "We will now look at apps on Google Play. Note that we must first remove the + and , characters present in the Installs column before converting the estimates to floats so that we can compute and average."
   ]
  },
  {
   "cell_type": "code",
   "execution_count": 45,
   "metadata": {},
   "outputs": [
    {
     "name": "stdout",
     "output_type": "stream",
     "text": [
      "ART_AND_DESIGN : 1887285.0\n",
      "AUTO_AND_VEHICLES : 632501.3214285715\n",
      "BEAUTY : 513151.88679245283\n",
      "BOOKS_AND_REFERENCE : 7676991.133640553\n",
      "BUSINESS : 1663758.627684964\n",
      "COMICS : 832613.8888888889\n",
      "COMMUNICATION : 35266026.32907348\n",
      "DATING : 828971.2176470588\n",
      "EDUCATION : 1782566.0377358492\n",
      "ENTERTAINMENT : 11375402.298850575\n",
      "EVENTS : 249580.640625\n",
      "FINANCE : 1319851.4028985507\n",
      "FOOD_AND_DRINK : 1891060.2767857143\n",
      "HEALTH_AND_FITNESS : 3972300.388888889\n",
      "HOUSE_AND_HOME : 1360598.042253521\n",
      "LIBRARIES_AND_DEMO : 630903.6904761905\n",
      "LIFESTYLE : 1377507.0138121548\n",
      "GAME : 14210387.675531914\n",
      "FAMILY : 3345018.516684607\n",
      "MEDICAL : 96944.49873417722\n",
      "SOCIAL : 22961790.384937238\n",
      "SHOPPING : 6966908.880597015\n",
      "PHOTOGRAPHY : 16636241.267857144\n",
      "SPORTS : 3384026.2283950616\n",
      "TRAVEL_AND_LOCAL : 13218662.767123288\n",
      "TOOLS : 9809631.85835351\n",
      "PERSONALIZATION : 4086652.4853333333\n",
      "PRODUCTIVITY : 15530942.008042896\n",
      "PARENTING : 525351.8333333334\n",
      "WEATHER : 4628211.794871795\n",
      "VIDEO_PLAYERS : 24121489.079754602\n",
      "NEWS_AND_MAGAZINES : 9510848.43373494\n",
      "MAPS_AND_NAVIGATION : 3892045.9375\n"
     ]
    }
   ],
   "source": [
    "categories_android = freq_table(android_english, 1)\n",
    "\n",
    "for category in categories_android:\n",
    "    total = 0\n",
    "    len_category = 0\n",
    "    for app in android_english:\n",
    "        category_app = app[1]\n",
    "        if category_app == category:            \n",
    "            n_installs = app[5]\n",
    "            n_installs = n_installs.replace(',', '')\n",
    "            n_installs = n_installs.replace('+', '')\n",
    "            total += float(n_installs)\n",
    "            len_category += 1\n",
    "    avg_n_installs = total / len_category\n",
    "    print(category, ':', avg_n_installs)"
   ]
  },
  {
   "cell_type": "markdown",
   "metadata": {},
   "source": [
    "It appears that communication apps have the most installs on the Google Play Store.\n",
    "\n",
    "## Conclusion\n",
    "\n",
    "We have analysed data from the Apple Store and Google Play Store to determine the best type of app to build. We would recommend continued analys"
   ]
  }
 ],
 "metadata": {
  "kernelspec": {
   "display_name": "Python 3",
   "language": "python",
   "name": "python3"
  },
  "language_info": {
   "codemirror_mode": {
    "name": "ipython",
    "version": 3
   },
   "file_extension": ".py",
   "mimetype": "text/x-python",
   "name": "python",
   "nbconvert_exporter": "python",
   "pygments_lexer": "ipython3",
   "version": "3.8.2"
  }
 },
 "nbformat": 4,
 "nbformat_minor": 2
}
